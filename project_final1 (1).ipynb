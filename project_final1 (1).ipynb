{
  "nbformat": 4,
  "nbformat_minor": 0,
  "metadata": {
    "colab": {
      "provenance": []
    },
    "kernelspec": {
      "name": "python3",
      "display_name": "Python 3"
    },
    "language_info": {
      "name": "python"
    },
    "widgets": {
      "application/vnd.jupyter.widget-state+json": {
        "f3bde18f5d994266ae949546448a022b": {
          "model_module": "@jupyter-widgets/controls",
          "model_name": "VBoxModel",
          "model_module_version": "1.5.0",
          "state": {
            "_dom_classes": [],
            "_model_module": "@jupyter-widgets/controls",
            "_model_module_version": "1.5.0",
            "_model_name": "VBoxModel",
            "_view_count": null,
            "_view_module": "@jupyter-widgets/controls",
            "_view_module_version": "1.5.0",
            "_view_name": "VBoxView",
            "box_style": "",
            "children": [
              "IPY_MODEL_b222da88ba544dcdbbfe5bf984a33acd",
              "IPY_MODEL_ca479ea3a7dc40e2934099ed183610a0",
              "IPY_MODEL_2a693b6ff6164a5abffaf73d4c9bfb96"
            ],
            "layout": "IPY_MODEL_bf1e3d4b3c9047c1bd9e60cf0b0dfcbb"
          }
        },
        "b222da88ba544dcdbbfe5bf984a33acd": {
          "model_module": "@jupyter-widgets/controls",
          "model_name": "TextModel",
          "model_module_version": "1.5.0",
          "state": {
            "_dom_classes": [],
            "_model_module": "@jupyter-widgets/controls",
            "_model_module_version": "1.5.0",
            "_model_name": "TextModel",
            "_view_count": null,
            "_view_module": "@jupyter-widgets/controls",
            "_view_module_version": "1.5.0",
            "_view_name": "TextView",
            "continuous_update": true,
            "description": "Email:",
            "description_tooltip": null,
            "disabled": false,
            "layout": "IPY_MODEL_16dbc5d7c4cf40768b04dbdfd2aedda7",
            "placeholder": "Enter email content here...",
            "style": "IPY_MODEL_df7ea831d98e40efaac8510d308e9e9d",
            "value": "Some Grading Errors Have Been Found in Short Exam 2. They all have been corrected now. Some of scores of the Short Exam2 have been updated (mostly lowered) now"
          }
        },
        "ca479ea3a7dc40e2934099ed183610a0": {
          "model_module": "@jupyter-widgets/controls",
          "model_name": "ButtonModel",
          "model_module_version": "1.5.0",
          "state": {
            "_dom_classes": [],
            "_model_module": "@jupyter-widgets/controls",
            "_model_module_version": "1.5.0",
            "_model_name": "ButtonModel",
            "_view_count": null,
            "_view_module": "@jupyter-widgets/controls",
            "_view_module_version": "1.5.0",
            "_view_name": "ButtonView",
            "button_style": "",
            "description": "Classify",
            "disabled": false,
            "icon": "",
            "layout": "IPY_MODEL_e0eb27e48efa4082af7157f93de585c2",
            "style": "IPY_MODEL_c3513843da4b433aa6adac47df5e77db",
            "tooltip": ""
          }
        },
        "2a693b6ff6164a5abffaf73d4c9bfb96": {
          "model_module": "@jupyter-widgets/output",
          "model_name": "OutputModel",
          "model_module_version": "1.0.0",
          "state": {
            "_dom_classes": [],
            "_model_module": "@jupyter-widgets/output",
            "_model_module_version": "1.0.0",
            "_model_name": "OutputModel",
            "_view_count": null,
            "_view_module": "@jupyter-widgets/output",
            "_view_module_version": "1.0.0",
            "_view_name": "OutputView",
            "layout": "IPY_MODEL_d224299358fb4cd192a2869b9962efbd",
            "msg_id": "",
            "outputs": [
              {
                "output_type": "stream",
                "name": "stdout",
                "text": [
                  "The email is classified as: Ham\n"
                ]
              }
            ]
          }
        },
        "bf1e3d4b3c9047c1bd9e60cf0b0dfcbb": {
          "model_module": "@jupyter-widgets/base",
          "model_name": "LayoutModel",
          "model_module_version": "1.2.0",
          "state": {
            "_model_module": "@jupyter-widgets/base",
            "_model_module_version": "1.2.0",
            "_model_name": "LayoutModel",
            "_view_count": null,
            "_view_module": "@jupyter-widgets/base",
            "_view_module_version": "1.2.0",
            "_view_name": "LayoutView",
            "align_content": null,
            "align_items": null,
            "align_self": null,
            "border": null,
            "bottom": null,
            "display": null,
            "flex": null,
            "flex_flow": null,
            "grid_area": null,
            "grid_auto_columns": null,
            "grid_auto_flow": null,
            "grid_auto_rows": null,
            "grid_column": null,
            "grid_gap": null,
            "grid_row": null,
            "grid_template_areas": null,
            "grid_template_columns": null,
            "grid_template_rows": null,
            "height": null,
            "justify_content": null,
            "justify_items": null,
            "left": null,
            "margin": null,
            "max_height": null,
            "max_width": null,
            "min_height": null,
            "min_width": null,
            "object_fit": null,
            "object_position": null,
            "order": null,
            "overflow": null,
            "overflow_x": null,
            "overflow_y": null,
            "padding": null,
            "right": null,
            "top": null,
            "visibility": null,
            "width": null
          }
        },
        "16dbc5d7c4cf40768b04dbdfd2aedda7": {
          "model_module": "@jupyter-widgets/base",
          "model_name": "LayoutModel",
          "model_module_version": "1.2.0",
          "state": {
            "_model_module": "@jupyter-widgets/base",
            "_model_module_version": "1.2.0",
            "_model_name": "LayoutModel",
            "_view_count": null,
            "_view_module": "@jupyter-widgets/base",
            "_view_module_version": "1.2.0",
            "_view_name": "LayoutView",
            "align_content": null,
            "align_items": null,
            "align_self": null,
            "border": null,
            "bottom": null,
            "display": null,
            "flex": null,
            "flex_flow": null,
            "grid_area": null,
            "grid_auto_columns": null,
            "grid_auto_flow": null,
            "grid_auto_rows": null,
            "grid_column": null,
            "grid_gap": null,
            "grid_row": null,
            "grid_template_areas": null,
            "grid_template_columns": null,
            "grid_template_rows": null,
            "height": null,
            "justify_content": null,
            "justify_items": null,
            "left": null,
            "margin": null,
            "max_height": null,
            "max_width": null,
            "min_height": null,
            "min_width": null,
            "object_fit": null,
            "object_position": null,
            "order": null,
            "overflow": null,
            "overflow_x": null,
            "overflow_y": null,
            "padding": null,
            "right": null,
            "top": null,
            "visibility": null,
            "width": null
          }
        },
        "df7ea831d98e40efaac8510d308e9e9d": {
          "model_module": "@jupyter-widgets/controls",
          "model_name": "DescriptionStyleModel",
          "model_module_version": "1.5.0",
          "state": {
            "_model_module": "@jupyter-widgets/controls",
            "_model_module_version": "1.5.0",
            "_model_name": "DescriptionStyleModel",
            "_view_count": null,
            "_view_module": "@jupyter-widgets/base",
            "_view_module_version": "1.2.0",
            "_view_name": "StyleView",
            "description_width": ""
          }
        },
        "e0eb27e48efa4082af7157f93de585c2": {
          "model_module": "@jupyter-widgets/base",
          "model_name": "LayoutModel",
          "model_module_version": "1.2.0",
          "state": {
            "_model_module": "@jupyter-widgets/base",
            "_model_module_version": "1.2.0",
            "_model_name": "LayoutModel",
            "_view_count": null,
            "_view_module": "@jupyter-widgets/base",
            "_view_module_version": "1.2.0",
            "_view_name": "LayoutView",
            "align_content": null,
            "align_items": null,
            "align_self": null,
            "border": null,
            "bottom": null,
            "display": null,
            "flex": null,
            "flex_flow": null,
            "grid_area": null,
            "grid_auto_columns": null,
            "grid_auto_flow": null,
            "grid_auto_rows": null,
            "grid_column": null,
            "grid_gap": null,
            "grid_row": null,
            "grid_template_areas": null,
            "grid_template_columns": null,
            "grid_template_rows": null,
            "height": null,
            "justify_content": null,
            "justify_items": null,
            "left": null,
            "margin": null,
            "max_height": null,
            "max_width": null,
            "min_height": null,
            "min_width": null,
            "object_fit": null,
            "object_position": null,
            "order": null,
            "overflow": null,
            "overflow_x": null,
            "overflow_y": null,
            "padding": null,
            "right": null,
            "top": null,
            "visibility": null,
            "width": null
          }
        },
        "c3513843da4b433aa6adac47df5e77db": {
          "model_module": "@jupyter-widgets/controls",
          "model_name": "ButtonStyleModel",
          "model_module_version": "1.5.0",
          "state": {
            "_model_module": "@jupyter-widgets/controls",
            "_model_module_version": "1.5.0",
            "_model_name": "ButtonStyleModel",
            "_view_count": null,
            "_view_module": "@jupyter-widgets/base",
            "_view_module_version": "1.2.0",
            "_view_name": "StyleView",
            "button_color": null,
            "font_weight": ""
          }
        },
        "d224299358fb4cd192a2869b9962efbd": {
          "model_module": "@jupyter-widgets/base",
          "model_name": "LayoutModel",
          "model_module_version": "1.2.0",
          "state": {
            "_model_module": "@jupyter-widgets/base",
            "_model_module_version": "1.2.0",
            "_model_name": "LayoutModel",
            "_view_count": null,
            "_view_module": "@jupyter-widgets/base",
            "_view_module_version": "1.2.0",
            "_view_name": "LayoutView",
            "align_content": null,
            "align_items": null,
            "align_self": null,
            "border": null,
            "bottom": null,
            "display": null,
            "flex": null,
            "flex_flow": null,
            "grid_area": null,
            "grid_auto_columns": null,
            "grid_auto_flow": null,
            "grid_auto_rows": null,
            "grid_column": null,
            "grid_gap": null,
            "grid_row": null,
            "grid_template_areas": null,
            "grid_template_columns": null,
            "grid_template_rows": null,
            "height": null,
            "justify_content": null,
            "justify_items": null,
            "left": null,
            "margin": null,
            "max_height": null,
            "max_width": null,
            "min_height": null,
            "min_width": null,
            "object_fit": null,
            "object_position": null,
            "order": null,
            "overflow": null,
            "overflow_x": null,
            "overflow_y": null,
            "padding": null,
            "right": null,
            "top": null,
            "visibility": null,
            "width": null
          }
        }
      }
    }
  },
  "cells": [
    {
      "cell_type": "code",
      "source": [
        "# Google Colab Setup: Ensure necessary libraries are installed\n",
        "!pip install scikit-learn pandas matplotlib\n",
        "\n",
        "# Import necessary libraries\n",
        "from google.colab import files\n",
        "import os\n",
        "import zipfile\n",
        "import pandas as pd\n",
        "import re\n",
        "import numpy as np\n",
        "from sklearn.feature_extraction.text import CountVectorizer\n",
        "from sklearn.model_selection import train_test_split\n",
        "from sklearn.naive_bayes import MultinomialNB\n",
        "from sklearn.ensemble import RandomForestClassifier\n",
        "from sklearn.linear_model import LogisticRegression\n",
        "from sklearn.svm import SVC\n",
        "from sklearn.metrics import classification_report, accuracy_score\n",
        "import matplotlib.pyplot as plt\n",
        "\n",
        "print(\"Libraries imported successfully!\")"
      ],
      "metadata": {
        "id": "nE-cMoAzmAMh",
        "colab": {
          "base_uri": "https://localhost:8080/"
        },
        "outputId": "bc958a5d-8f75-4cad-93ed-ec96ce2eb260"
      },
      "execution_count": null,
      "outputs": [
        {
          "output_type": "stream",
          "name": "stdout",
          "text": [
            "Requirement already satisfied: scikit-learn in /usr/local/lib/python3.10/dist-packages (1.5.2)\n",
            "Requirement already satisfied: pandas in /usr/local/lib/python3.10/dist-packages (2.2.2)\n",
            "Requirement already satisfied: matplotlib in /usr/local/lib/python3.10/dist-packages (3.8.0)\n",
            "Requirement already satisfied: numpy>=1.19.5 in /usr/local/lib/python3.10/dist-packages (from scikit-learn) (1.26.4)\n",
            "Requirement already satisfied: scipy>=1.6.0 in /usr/local/lib/python3.10/dist-packages (from scikit-learn) (1.13.1)\n",
            "Requirement already satisfied: joblib>=1.2.0 in /usr/local/lib/python3.10/dist-packages (from scikit-learn) (1.4.2)\n",
            "Requirement already satisfied: threadpoolctl>=3.1.0 in /usr/local/lib/python3.10/dist-packages (from scikit-learn) (3.5.0)\n",
            "Requirement already satisfied: python-dateutil>=2.8.2 in /usr/local/lib/python3.10/dist-packages (from pandas) (2.8.2)\n",
            "Requirement already satisfied: pytz>=2020.1 in /usr/local/lib/python3.10/dist-packages (from pandas) (2024.2)\n",
            "Requirement already satisfied: tzdata>=2022.7 in /usr/local/lib/python3.10/dist-packages (from pandas) (2024.2)\n",
            "Requirement already satisfied: contourpy>=1.0.1 in /usr/local/lib/python3.10/dist-packages (from matplotlib) (1.3.1)\n",
            "Requirement already satisfied: cycler>=0.10 in /usr/local/lib/python3.10/dist-packages (from matplotlib) (0.12.1)\n",
            "Requirement already satisfied: fonttools>=4.22.0 in /usr/local/lib/python3.10/dist-packages (from matplotlib) (4.55.0)\n",
            "Requirement already satisfied: kiwisolver>=1.0.1 in /usr/local/lib/python3.10/dist-packages (from matplotlib) (1.4.7)\n",
            "Requirement already satisfied: packaging>=20.0 in /usr/local/lib/python3.10/dist-packages (from matplotlib) (24.2)\n",
            "Requirement already satisfied: pillow>=6.2.0 in /usr/local/lib/python3.10/dist-packages (from matplotlib) (11.0.0)\n",
            "Requirement already satisfied: pyparsing>=2.3.1 in /usr/local/lib/python3.10/dist-packages (from matplotlib) (3.2.0)\n",
            "Requirement already satisfied: six>=1.5 in /usr/local/lib/python3.10/dist-packages (from python-dateutil>=2.8.2->pandas) (1.16.0)\n",
            "Libraries imported successfully!\n"
          ]
        }
      ]
    },
    {
      "cell_type": "code",
      "source": [
        "# Step 1: Upload and Extract the ZIP File\n",
        "uploaded_zip_path = 'Combined_Spam_Ham.zip'  # Path for the uploaded ZIP file\n",
        "extracted_folder_path = 'Combined_Spam_Ham'\n",
        "\n",
        "# Unzip the file\n",
        "print(\"Unzipping the file...\")\n",
        "with zipfile.ZipFile(uploaded_zip_path, 'r') as zip_ref:\n",
        "    zip_ref.extractall(extracted_folder_path)\n",
        "\n",
        "print(f\"Files extracted to: {extracted_folder_path}\")"
      ],
      "metadata": {
        "colab": {
          "base_uri": "https://localhost:8080/"
        },
        "id": "o9reFELPmSpV",
        "outputId": "0abf3421-7bb7-4662-f501-29a4811d4009"
      },
      "execution_count": null,
      "outputs": [
        {
          "output_type": "stream",
          "name": "stdout",
          "text": [
            "Unzipping the file...\n",
            "Files extracted to: Combined_Spam_Ham\n"
          ]
        }
      ]
    },
    {
      "cell_type": "code",
      "source": [
        "# Step 2: Load Data and Extract Features\n",
        "email_folder_path = os.path.join(extracted_folder_path, 'Combined_Spam_Ham')\n",
        "\n",
        "email_data = []\n",
        "print(\"Loading and extracting features from email files...\")\n",
        "for email_file in os.listdir(email_folder_path):\n",
        "    with open(os.path.join(email_folder_path, email_file), 'r', encoding='utf-8', errors='ignore') as file:\n",
        "        content = file.read()\n",
        "        sender = re.search(r\"From: (.*)\", content)\n",
        "        receiver = re.search(r\"To: (.*)\", content)\n",
        "        subject = re.search(r\"Subject: (.*)\", content)\n",
        "        body_start = content.find(\"\\n\\n\")\n",
        "        body = content[body_start:].strip() if body_start != -1 else ''\n",
        "        email_data.append({\n",
        "            'FileName': email_file,\n",
        "            'Sender': sender.group(1).strip() if sender else None,\n",
        "            'Receiver': receiver.group(1).strip() if receiver else None,\n",
        "            'Subject': subject.group(1).strip() if subject else None,\n",
        "            'Body': body.strip()\n",
        "        })\n",
        "\n",
        "email_df = pd.DataFrame(email_data)\n",
        "\n",
        "# Print DataFrame size and head/tail\n",
        "print(f\"Original DataFrame: {email_df.shape[0]} rows, {email_df.shape[1]} columns\")\n",
        "print(\"DataFrame head:\")\n",
        "print(email_df.head())\n",
        "print(\"DataFrame tail:\")\n",
        "print(email_df.tail())"
      ],
      "metadata": {
        "colab": {
          "base_uri": "https://localhost:8080/"
        },
        "id": "1scrH5DtmYZW",
        "outputId": "42158044-235e-482c-db2c-446740dd5444"
      },
      "execution_count": null,
      "outputs": [
        {
          "output_type": "stream",
          "name": "stdout",
          "text": [
            "Loading and extracting features from email files...\n",
            "Original DataFrame: 5798 rows, 5 columns\n",
            "DataFrame head:\n",
            "                                 FileName  \\\n",
            "0  00318.5b1d22882c6fbfebcebe12a792b3c6c8   \n",
            "1  00654.65f25e01ad743dc13b1aaa366ffc6868   \n",
            "2  01688.77ff25da8e59d16dfba5c708a0cf3b69   \n",
            "3  01005.5ad1b924b3315046822ae89493e5572f   \n",
            "4  01239.5b4a6a500921ae2a53da84bc99d91414   \n",
            "\n",
            "                                            Sender  \\\n",
            "0              Ian Andrew Bell <hello@ianbell.com>   \n",
            "1  \"Mika Vanderpoel\" <anibpetmaetrysl@hotmail.com>   \n",
            "2              guido@python.org (Guido van Rossum)   \n",
            "3                Kevin Cosgrove <kevinc@dOink.COM>   \n",
            "4                           Jenny18xxx@netizen.com   \n",
            "\n",
            "                                Receiver  \\\n",
            "0          yyyy@localhost.netnoteinc.com   \n",
            "1         <ciro_parente@mcgraw-hill.com>   \n",
            "2                                   None   \n",
            "3  yyyy@localhost.spamassassin.taint.org   \n",
            "4          yyyy@localhost.netnoteinc.com   \n",
            "\n",
            "                                             Subject  \\\n",
            "0                 Re: The Curse of India's Socialism   \n",
            "1  SALES DOWN? ACCEPT CREDIT CARDS & TRIPLE THEM!...   \n",
            "2                [Spambayes] hammie.py vs. GBayes.py   \n",
            "3                                      Re: exmh bug?   \n",
            "4                           HARDCORE SEX & ORGIES!!!   \n",
            "\n",
            "                                                Body  \n",
            "0  I think that this and other articles confuse S...  \n",
            "1  <!-- saved from url=3D(0022)http://internet.e-...  \n",
            "2  There seem to be two \"drivers\" for the classif...  \n",
            "3  Here's a message that works fine for me:\\n\\n\\n...  \n",
            "4  <html>\\n<head>\\n<title>HARDCORE SEX</title>\\n<...  \n",
            "DataFrame tail:\n",
            "                                    FileName  \\\n",
            "5793  02227.bc3b678dc7d0e59974fd2d2bfccfc21f   \n",
            "5794  02062.c7e072e021caef4d69db2422f117acff   \n",
            "5795  01813.2711af4b8a31e4ff0c38fe92f2fa79d7   \n",
            "5796  00451.4165f9a2baf204496f173bbd10ee49d3   \n",
            "5797  01281.c6dc8af12840f7e67f50ed2346e204de   \n",
            "\n",
            "                                                 Sender  \\\n",
            "5793         guardian <rssfeeds@spamassassin.taint.org>   \n",
            "5794        gamasutra <rssfeeds@spamassassin.taint.org>   \n",
            "5795                gkm@petting-zoo.net (glen mccready)   \n",
            "5796  =?iso-8859-1?q?Colin=20Nevin?= <colin_nevin@ya...   \n",
            "5797  \"Malte S. Stretz\" <msquadrat.nospamplease@gmx....   \n",
            "\n",
            "                                   Receiver  \\\n",
            "5793  yyyy@localhost.spamassassin.taint.org   \n",
            "5794  yyyy@localhost.spamassassin.taint.org   \n",
            "5795  yyyy@localhost.spamassassin.taint.org   \n",
            "5796          yyyy@localhost.netnoteinc.com   \n",
            "5797          yyyy@localhost.netnoteinc.com   \n",
            "\n",
            "                                                Subject  \\\n",
            "5793              Currie returns to pile scorn on Major   \n",
            "5794                    Trust me on funding, says Brown   \n",
            "5795                     New $199 PC Doesn't Do Windows   \n",
            "5796  [ILUG] staroffice 6.0 installation freezes und...   \n",
            "5797           Re: [SAtalk] http://www.spamassassin.org   \n",
            "\n",
            "                                                   Body  \n",
            "5793  URL: http://www.newsisfree.com/click/215,4,215...  \n",
            "5794  URL: http://www.newsisfree.com/click/-1,838113...  \n",
            "5795  Forwarded-by: Monty Solomon <monty@roscom.com>...  \n",
            "5796  Hi All,\\n\\nJust wondering if anyone has ever i...  \n",
            "5797  On Monday 22 July 2002 07:00 CET John Rudd wro...  \n"
          ]
        }
      ]
    },
    {
      "cell_type": "code",
      "source": [
        "# Save the DataFrame to a CSV file\n",
        "output_csv_path = os.path.join(extracted_folder_path, 'email_features.csv')\n",
        "email_df.to_csv(output_csv_path, index=False, encoding='utf-8')\n",
        "\n",
        "# Confirm the file has been saved\n",
        "print(f\"CSV file saved at: {output_csv_path}\")"
      ],
      "metadata": {
        "colab": {
          "base_uri": "https://localhost:8080/"
        },
        "id": "pZu3AiJoZHp7",
        "outputId": "08e6a5ec-1f4b-4c91-e255-c8e875907ca8"
      },
      "execution_count": null,
      "outputs": [
        {
          "output_type": "stream",
          "name": "stdout",
          "text": [
            "CSV file saved at: Combined_Spam_Ham/email_features.csv\n"
          ]
        }
      ]
    },
    {
      "cell_type": "code",
      "source": [
        "# Download the CSV file\n",
        "files.download(output_csv_path)"
      ],
      "metadata": {
        "colab": {
          "base_uri": "https://localhost:8080/",
          "height": 17
        },
        "id": "be6WCo_aZJqr",
        "outputId": "de9321cc-717f-4a4a-a4b9-6612dd738f91"
      },
      "execution_count": null,
      "outputs": [
        {
          "output_type": "display_data",
          "data": {
            "text/plain": [
              "<IPython.core.display.Javascript object>"
            ],
            "application/javascript": [
              "\n",
              "    async function download(id, filename, size) {\n",
              "      if (!google.colab.kernel.accessAllowed) {\n",
              "        return;\n",
              "      }\n",
              "      const div = document.createElement('div');\n",
              "      const label = document.createElement('label');\n",
              "      label.textContent = `Downloading \"${filename}\": `;\n",
              "      div.appendChild(label);\n",
              "      const progress = document.createElement('progress');\n",
              "      progress.max = size;\n",
              "      div.appendChild(progress);\n",
              "      document.body.appendChild(div);\n",
              "\n",
              "      const buffers = [];\n",
              "      let downloaded = 0;\n",
              "\n",
              "      const channel = await google.colab.kernel.comms.open(id);\n",
              "      // Send a message to notify the kernel that we're ready.\n",
              "      channel.send({})\n",
              "\n",
              "      for await (const message of channel.messages) {\n",
              "        // Send a message to notify the kernel that we're ready.\n",
              "        channel.send({})\n",
              "        if (message.buffers) {\n",
              "          for (const buffer of message.buffers) {\n",
              "            buffers.push(buffer);\n",
              "            downloaded += buffer.byteLength;\n",
              "            progress.value = downloaded;\n",
              "          }\n",
              "        }\n",
              "      }\n",
              "      const blob = new Blob(buffers, {type: 'application/binary'});\n",
              "      const a = document.createElement('a');\n",
              "      a.href = window.URL.createObjectURL(blob);\n",
              "      a.download = filename;\n",
              "      div.appendChild(a);\n",
              "      a.click();\n",
              "      div.remove();\n",
              "    }\n",
              "  "
            ]
          },
          "metadata": {}
        },
        {
          "output_type": "display_data",
          "data": {
            "text/plain": [
              "<IPython.core.display.Javascript object>"
            ],
            "application/javascript": [
              "download(\"download_97ec605b-eae6-4813-96b9-fcbaffa899cd\", \"email_features.csv\", 16757101)"
            ]
          },
          "metadata": {}
        }
      ]
    },
    {
      "cell_type": "code",
      "source": [
        "print(\"Data types of features:\")\n",
        "print(email_df.dtypes)"
      ],
      "metadata": {
        "colab": {
          "base_uri": "https://localhost:8080/"
        },
        "id": "yh9Pxen1mjya",
        "outputId": "6b121229-8c3d-46c1-8622-67c0c49efc7d"
      },
      "execution_count": null,
      "outputs": [
        {
          "output_type": "stream",
          "name": "stdout",
          "text": [
            "Data types of features:\n",
            "FileName    object\n",
            "Sender      object\n",
            "Receiver    object\n",
            "Subject     object\n",
            "Body        object\n",
            "dtype: object\n"
          ]
        }
      ]
    },
    {
      "cell_type": "code",
      "source": [
        "import re\n",
        "from nltk.corpus import stopwords\n",
        "import nltk\n",
        "\n",
        "# Download stopwords from NLTK (if not already done)\n",
        "nltk.download('stopwords')\n",
        "\n",
        "def clean_text(text):\n",
        "    # Step 1: Remove HTML tags\n",
        "    text = re.sub(r'<[^>]+>', ' ', text)  # Removes HTML tags like <html>, <body>, etc.\n",
        "    # Step 2: Remove non-alphanumeric characters (except spaces)\n",
        "    text = re.sub(r'[^\\w\\s]', ' ', text)\n",
        "    # Step 3: Remove extra spaces\n",
        "    text = re.sub(r'\\s+', ' ', text)\n",
        "    # Step 4: Remove email addresses\n",
        "    text = re.sub(r'\\b[A-Za-z0-9._%+-]+@[A-Za-z0-9.-]+\\.[A-Z|a-z]{2,}\\b', '', text)\n",
        "    # Step 5: Remove URLs\n",
        "    text = re.sub(r'http\\S+|www\\S+|https\\S+', '', text)\n",
        "    # Step 6: Remove numbers\n",
        "    text = re.sub(r'\\d+', '', text)\n",
        "    # Step 7: Remove programming keywords or system-specific tokens\n",
        "    text = re.sub(r'\\b(html|body|font|color|size|center|pythonnet|cbgovernmentgw|gward)\\b', '', text, flags=re.IGNORECASE)\n",
        "    # Step 8: Convert to lowercase\n",
        "    text = text.lower()\n",
        "    # Step 9: Remove stopwords\n",
        "    stop_words = set(stopwords.words('english'))\n",
        "    words = text.split()\n",
        "    filtered_words = [word for word in words if word not in stop_words]\n",
        "    # Step 10: Join the cleaned words back into a single string\n",
        "    cleaned_text = ' '.join(filtered_words)\n",
        "    return cleaned_text.strip()\n",
        "\n",
        "# Apply the updated clean_text function to the 'Body' column\n",
        "email_df['Cleaned_Body'] = email_df['Body'].apply(clean_text)\n",
        "\n",
        "# Create a new DataFrame with preprocessed columns\n",
        "preprocessed_email_df = email_df[['FileName', 'Sender', 'Receiver', 'Subject', 'Cleaned_Body']].copy()\n",
        "\n",
        "# Print preprocessed DataFrame size and head/tail for verification\n",
        "print(f\"Preprocessed DataFrame: {preprocessed_email_df.shape[0]} rows, {preprocessed_email_df.shape[1]} columns\")\n",
        "print(\"Preprocessed DataFrame head:\")\n",
        "print(preprocessed_email_df.head())\n",
        "print(\"Preprocessed DataFrame tail:\")\n",
        "print(preprocessed_email_df.tail())\n"
      ],
      "metadata": {
        "colab": {
          "base_uri": "https://localhost:8080/"
        },
        "id": "WQZqzstTm1Yk",
        "outputId": "8c05d246-8a27-4837-bde9-45576e9ac04b"
      },
      "execution_count": null,
      "outputs": [
        {
          "output_type": "stream",
          "name": "stderr",
          "text": [
            "[nltk_data] Downloading package stopwords to /root/nltk_data...\n",
            "[nltk_data]   Package stopwords is already up-to-date!\n"
          ]
        },
        {
          "output_type": "stream",
          "name": "stdout",
          "text": [
            "Preprocessed DataFrame: 5798 rows, 5 columns\n",
            "Preprocessed DataFrame head:\n",
            "                                 FileName  \\\n",
            "0  00318.5b1d22882c6fbfebcebe12a792b3c6c8   \n",
            "1  00654.65f25e01ad743dc13b1aaa366ffc6868   \n",
            "2  01688.77ff25da8e59d16dfba5c708a0cf3b69   \n",
            "3  01005.5ad1b924b3315046822ae89493e5572f   \n",
            "4  01239.5b4a6a500921ae2a53da84bc99d91414   \n",
            "\n",
            "                                            Sender  \\\n",
            "0              Ian Andrew Bell <hello@ianbell.com>   \n",
            "1  \"Mika Vanderpoel\" <anibpetmaetrysl@hotmail.com>   \n",
            "2              guido@python.org (Guido van Rossum)   \n",
            "3                Kevin Cosgrove <kevinc@dOink.COM>   \n",
            "4                           Jenny18xxx@netizen.com   \n",
            "\n",
            "                                Receiver  \\\n",
            "0          yyyy@localhost.netnoteinc.com   \n",
            "1         <ciro_parente@mcgraw-hill.com>   \n",
            "2                                   None   \n",
            "3  yyyy@localhost.spamassassin.taint.org   \n",
            "4          yyyy@localhost.netnoteinc.com   \n",
            "\n",
            "                                             Subject  \\\n",
            "0                 Re: The Curse of India's Socialism   \n",
            "1  SALES DOWN? ACCEPT CREDIT CARDS & TRIPLE THEM!...   \n",
            "2                [Spambayes] hammie.py vs. GBayes.py   \n",
            "3                                      Re: exmh bug?   \n",
            "4                           HARDCORE SEX & ORGIES!!!   \n",
            "\n",
            "                                        Cleaned_Body  \n",
            "0  think articles confuse socialism bureaucracy l...  \n",
            "1  money merchant accounts main family verdana ar...  \n",
            "2  seem two drivers classifier neale pickett hamm...  \n",
            "3  message works fine x mailer exmh version nmh k...  \n",
            "4  hardcore sex hot girls fucking nbsp hard lt lt...  \n",
            "Preprocessed DataFrame tail:\n",
            "                                    FileName  \\\n",
            "5793  02227.bc3b678dc7d0e59974fd2d2bfccfc21f   \n",
            "5794  02062.c7e072e021caef4d69db2422f117acff   \n",
            "5795  01813.2711af4b8a31e4ff0c38fe92f2fa79d7   \n",
            "5796  00451.4165f9a2baf204496f173bbd10ee49d3   \n",
            "5797  01281.c6dc8af12840f7e67f50ed2346e204de   \n",
            "\n",
            "                                                 Sender  \\\n",
            "5793         guardian <rssfeeds@spamassassin.taint.org>   \n",
            "5794        gamasutra <rssfeeds@spamassassin.taint.org>   \n",
            "5795                gkm@petting-zoo.net (glen mccready)   \n",
            "5796  =?iso-8859-1?q?Colin=20Nevin?= <colin_nevin@ya...   \n",
            "5797  \"Malte S. Stretz\" <msquadrat.nospamplease@gmx....   \n",
            "\n",
            "                                   Receiver  \\\n",
            "5793  yyyy@localhost.spamassassin.taint.org   \n",
            "5794  yyyy@localhost.spamassassin.taint.org   \n",
            "5795  yyyy@localhost.spamassassin.taint.org   \n",
            "5796          yyyy@localhost.netnoteinc.com   \n",
            "5797          yyyy@localhost.netnoteinc.com   \n",
            "\n",
            "                                                Subject  \\\n",
            "5793              Currie returns to pile scorn on Major   \n",
            "5794                    Trust me on funding, says Brown   \n",
            "5795                     New $199 PC Doesn't Do Windows   \n",
            "5796  [ILUG] staroffice 6.0 installation freezes und...   \n",
            "5797           Re: [SAtalk] http://www.spamassassin.org   \n",
            "\n",
            "                                           Cleaned_Body  \n",
            "5793  url http www newsisfree com click date politic...  \n",
            "5794  url http www newsisfree com click date retreat...  \n",
            "5795  forwarded monty solomon new pc windows oct pm ...  \n",
            "5796  hi wondering anyone ever installed staroffice ...  \n",
            "5797  monday july cet john rudd wrote sunday july bo...  \n"
          ]
        }
      ]
    },
    {
      "cell_type": "code",
      "source": [
        "preprocessed_email_df.to_csv('/content/Preprocessed_emails.csv', index=False)\n",
        "print(\"Preprocessed DataFrame saved as 'Preprocessed_emails.csv'\")\n",
        "files.download('/content/Preprocessed_emails.csv')"
      ],
      "metadata": {
        "colab": {
          "base_uri": "https://localhost:8080/",
          "height": 35
        },
        "id": "bkdW-aDznGnI",
        "outputId": "c7b31baa-4d54-42d1-ee6b-b2e4acd9bd60"
      },
      "execution_count": null,
      "outputs": [
        {
          "output_type": "stream",
          "name": "stdout",
          "text": [
            "Preprocessed DataFrame saved as 'Preprocessed_emails.csv'\n"
          ]
        },
        {
          "output_type": "display_data",
          "data": {
            "text/plain": [
              "<IPython.core.display.Javascript object>"
            ],
            "application/javascript": [
              "\n",
              "    async function download(id, filename, size) {\n",
              "      if (!google.colab.kernel.accessAllowed) {\n",
              "        return;\n",
              "      }\n",
              "      const div = document.createElement('div');\n",
              "      const label = document.createElement('label');\n",
              "      label.textContent = `Downloading \"${filename}\": `;\n",
              "      div.appendChild(label);\n",
              "      const progress = document.createElement('progress');\n",
              "      progress.max = size;\n",
              "      div.appendChild(progress);\n",
              "      document.body.appendChild(div);\n",
              "\n",
              "      const buffers = [];\n",
              "      let downloaded = 0;\n",
              "\n",
              "      const channel = await google.colab.kernel.comms.open(id);\n",
              "      // Send a message to notify the kernel that we're ready.\n",
              "      channel.send({})\n",
              "\n",
              "      for await (const message of channel.messages) {\n",
              "        // Send a message to notify the kernel that we're ready.\n",
              "        channel.send({})\n",
              "        if (message.buffers) {\n",
              "          for (const buffer of message.buffers) {\n",
              "            buffers.push(buffer);\n",
              "            downloaded += buffer.byteLength;\n",
              "            progress.value = downloaded;\n",
              "          }\n",
              "        }\n",
              "      }\n",
              "      const blob = new Blob(buffers, {type: 'application/binary'});\n",
              "      const a = document.createElement('a');\n",
              "      a.href = window.URL.createObjectURL(blob);\n",
              "      a.download = filename;\n",
              "      div.appendChild(a);\n",
              "      a.click();\n",
              "      div.remove();\n",
              "    }\n",
              "  "
            ]
          },
          "metadata": {}
        },
        {
          "output_type": "display_data",
          "data": {
            "text/plain": [
              "<IPython.core.display.Javascript object>"
            ],
            "application/javascript": [
              "download(\"download_f968c55d-4f7b-4ed0-a416-98dee70bf99f\", \"Preprocessed_emails.csv\", 8766662)"
            ]
          },
          "metadata": {}
        }
      ]
    },
    {
      "cell_type": "code",
      "source": [
        "# Step 4: Bootstrapping to Create a Larger Dataset\n",
        "desired_rows = 15000\n",
        "bootstrapped_df = preprocessed_email_df.sample(n=desired_rows, replace=True, random_state=42).reset_index(drop=True)\n",
        "\n",
        "print(f\"Bootstrapped DataFrame: {bootstrapped_df.shape[0]} rows, {bootstrapped_df.shape[1]} columns\")\n",
        "print(\"Bootstrapped DataFrame head:\")\n",
        "print(bootstrapped_df.head())\n",
        "print(\"Bootstrapped DataFrame tail:\")\n",
        "print(bootstrapped_df.tail())"
      ],
      "metadata": {
        "colab": {
          "base_uri": "https://localhost:8080/"
        },
        "id": "VcHe5miwsO0w",
        "outputId": "324c2313-6a27-4bd9-dc6c-29da68dbbbc3"
      },
      "execution_count": null,
      "outputs": [
        {
          "output_type": "stream",
          "name": "stdout",
          "text": [
            "Bootstrapped DataFrame: 15000 rows, 5 columns\n",
            "Bootstrapped DataFrame head:\n",
            "                                 FileName                             Sender  \\\n",
            "0  00432.d0728a14791872b0fdbba5d730bb1426              cr-fixer@caramail.com   \n",
            "1  00331.ccd0a9edb0852f4811a401d533542237         Geege <grlygrl201@aol.com>   \n",
            "2  00163.2ceade6f8b0c1c342f5f95d57ac551f5       <FREE-TV-4-U6754e72@aol.com>   \n",
            "3  01043.0c5ba977fb678deeff6b841772e76c86                spyware@infonet.com   \n",
            "4  00505.d4fa302630b3e58461b644f7b3e11d82  \"Russell\" <jyoung@btamail.net.cn>   \n",
            "\n",
            "                                            Receiver  \\\n",
            "0                             <Imagemac80@jippii.fi>   \n",
            "1                      yyyy@localhost.netnoteinc.com   \n",
            "2                      yyyy@localhost.netnoteinc.com   \n",
            "3                                                      \n",
            "4  <Undisclosed.Recipients@mandark.labs.netnotein...   \n",
            "\n",
            "                                             Subject  \\\n",
            "0                       Super credit repair program.   \n",
            "1                                        Rambus, Man   \n",
            "2  ****Already own a satellite?  Need a programme...   \n",
            "3  Watch your TEENS or the BabySitter....& GET RICH!   \n",
            "4    Your Online Prescription Source               I   \n",
            "\n",
            "                                        Cleaned_Body  \n",
            "0  credit mess want perfect credit nice easily ge...  \n",
            "1  message sent http www idg net geege would like...  \n",
            "2  recieve channels satellite system pre programm...  \n",
            "3  look hot want one get rich selling others use ...  \n",
            "4  doctors online viagra viagra available online ...  \n",
            "Bootstrapped DataFrame tail:\n",
            "                                     FileName  \\\n",
            "14995  00230.9a0c6d7bc5e78a2b597bc050e491d05e   \n",
            "14996  00867.e614a8905c3462878227048e467cc535   \n",
            "14997  00983.72a910d32dbfe936547f37cdb919c422   \n",
            "14998  02447.5ecaa423bfa4ab050e5b9a0a34f6191f   \n",
            "14999  00584.f206aaba715a53da60ffdb9217b2afb3   \n",
            "\n",
            "                                            Sender  \\\n",
            "14995  \"Martin Adamson\" <martin@srv0.ems.ed.ac.uk>   \n",
            "14996               Karl Anderson <kra@monkey.org>   \n",
            "14997         Elias Sinderson <elias@cse.ucsc.edu>   \n",
            "14998        Loren Coleman <lcolema1@maine.rr.com>   \n",
            "14999          \"Rose, Bobby\" <brose@med.wayne.edu>   \n",
            "\n",
            "                                    Receiver  \\\n",
            "14995          zzzz@localhost.netnoteinc.com   \n",
            "14996          yyyy@localhost.netnoteinc.com   \n",
            "14997          yyyy@localhost.netnoteinc.com   \n",
            "14998  yyyy@localhost.spamassassin.taint.org   \n",
            "14999          yyyy@localhost.netnoteinc.com   \n",
            "\n",
            "                                                 Subject  \\\n",
            "14995            [zzzzteana] 'Lost' penguins found alive   \n",
            "14996  Re: [Baseline] Raising chickens the high-tech way   \n",
            "14997             Re: David Friedman: Mail Me the Money!   \n",
            "14998                [zzzzteana] Ray Wallace (1919-2002)   \n",
            "14999  RE: [Razor-users] What's wrong with the Razor ...   \n",
            "\n",
            "                                            Cleaned_Body  \n",
            "14995  evening standard august deft use fortean unit ...  \n",
            "14996  tom writes macrogenetic activites decades deca...  \n",
            "14997  gary lawrence murphy wrote r russell turpin wr...  \n",
            "14998  raymond l wallace bigfoot story teller ray wal...  \n",
            "14999  problem clearly info syncing servers run check...  \n"
          ]
        }
      ]
    },
    {
      "cell_type": "code",
      "source": [
        "print(f\"Bootstrapped DataFrame: {bootstrapped_df.shape[0]} rows, {preprocessed_email_df.shape[1]} columns\")\n"
      ],
      "metadata": {
        "colab": {
          "base_uri": "https://localhost:8080/"
        },
        "id": "HsBlCz0GsTkn",
        "outputId": "5d63ddb1-a7ec-4bbf-d33f-d38592d29498"
      },
      "execution_count": null,
      "outputs": [
        {
          "output_type": "stream",
          "name": "stdout",
          "text": [
            "Bootstrapped DataFrame: 15000 rows, 5 columns\n"
          ]
        }
      ]
    },
    {
      "cell_type": "code",
      "source": [
        "# Handle missing values by removing rows with null values\n",
        "print(\"Handling missing values by removing rows with null values...\")\n",
        "\n",
        "# Check for any null values in required columns\n",
        "print(\"Before dropping null values:\")\n",
        "print(bootstrapped_df.isnull().sum())\n",
        "\n",
        "# Drop rows where any of the key columns ('Sender', 'Subject', 'Cleaned_Body') are null\n",
        "bootstrapped_df = bootstrapped_df.dropna(subset=['Sender', 'Subject', 'Cleaned_Body']).reset_index(drop=True)\n",
        "\n",
        "# Recreate the 'Combined_Text' column after dropping null rows\n",
        "bootstrapped_df['Combined_Text'] = (\n",
        "    bootstrapped_df['Sender'] + \" \" +\n",
        "    bootstrapped_df['Subject'] + \" \" +\n",
        "    bootstrapped_df['Cleaned_Body']\n",
        ")\n",
        "\n",
        "# Ensure all entries in 'Combined_Text' are strings\n",
        "bootstrapped_df['Combined_Text'] = bootstrapped_df['Combined_Text'].astype(str)\n",
        "\n",
        "# Check if all values are strings and no NaN values exist\n",
        "print(\"After dropping null values:\")\n",
        "print(bootstrapped_df.isnull().sum())\n",
        "print(\"Sample Combined_Text column data:\")\n",
        "print(bootstrapped_df['Combined_Text'].head())\n",
        "print(\"Are all entries strings?\", bootstrapped_df['Combined_Text'].apply(lambda x: isinstance(x, str)).all())"
      ],
      "metadata": {
        "colab": {
          "base_uri": "https://localhost:8080/"
        },
        "id": "0aWMHX1OZBRE",
        "outputId": "0e46edbe-5b13-4499-8de4-418a82399e5a"
      },
      "execution_count": null,
      "outputs": [
        {
          "output_type": "stream",
          "name": "stdout",
          "text": [
            "Handling missing values by removing rows with null values...\n",
            "Before dropping null values:\n",
            "FileName         0\n",
            "Sender           3\n",
            "Receiver        88\n",
            "Subject         11\n",
            "Cleaned_Body     0\n",
            "dtype: int64\n",
            "After dropping null values:\n",
            "FileName          0\n",
            "Sender            0\n",
            "Receiver         85\n",
            "Subject           0\n",
            "Cleaned_Body      0\n",
            "Combined_Text     0\n",
            "dtype: int64\n",
            "Sample Combined_Text column data:\n",
            "0    cr-fixer@caramail.com Super credit repair prog...\n",
            "1    Geege <grlygrl201@aol.com> Rambus, Man message...\n",
            "2    <FREE-TV-4-U6754e72@aol.com> ****Already own a...\n",
            "3    spyware@infonet.com Watch your TEENS or the Ba...\n",
            "4    \"Russell\" <jyoung@btamail.net.cn> Your Online ...\n",
            "Name: Combined_Text, dtype: object\n",
            "Are all entries strings? True\n"
          ]
        }
      ]
    },
    {
      "cell_type": "code",
      "source": [
        "print(f\"DataFrame size after bootstrapping and handling null values: {bootstrapped_df.shape[0]} rows, {bootstrapped_df.shape[1]} columns\")"
      ],
      "metadata": {
        "colab": {
          "base_uri": "https://localhost:8080/"
        },
        "id": "miTA9urLZn97",
        "outputId": "09f0d744-6a68-4275-b946-1c549b2c4e3b"
      },
      "execution_count": null,
      "outputs": [
        {
          "output_type": "stream",
          "name": "stdout",
          "text": [
            "DataFrame size after bootstrapping and handling null values: 14989 rows, 6 columns\n"
          ]
        }
      ]
    },
    {
      "cell_type": "code",
      "source": [
        "# Step 5: Add Class Labels Based on Extended Spam Keywords\n",
        "def classify_email(subject, body):\n",
        "    spam_keywords = [\n",
        "        'win', 'free', 'urgent', 'offer', 'loan', 'click', 'subscribe',\n",
        "        'money', 'cash', 'credit', 'gift', 'winner', 'deal', 'buy now',\n",
        "        'limited time', 'discount', 'promotion', 'guarantee', 'trial', 'stop', 'end','exclusive', 'claim now'\n",
        "    ]\n",
        "    content = f\"{subject} {body}\".lower()\n",
        "    return int(any(keyword in content for keyword in spam_keywords))\n",
        "\n",
        "bootstrapped_df['Spam'] = bootstrapped_df.apply(\n",
        "    lambda row: classify_email(row['Subject'], row['Cleaned_Body']), axis=1\n",
        ")\n",
        "\n",
        "# Print updated DataFrame head/tail\n",
        "print(\"Bootstrapped DataFrame with Spam labels head:\")\n",
        "print(bootstrapped_df.head())\n",
        "print(\"Bootstrapped DataFrame with Spam labels tail:\")\n",
        "print(bootstrapped_df.tail())"
      ],
      "metadata": {
        "colab": {
          "base_uri": "https://localhost:8080/"
        },
        "id": "qAeCF40c4Bkb",
        "outputId": "4635c5e8-4e35-4713-800c-fd90924d0f44"
      },
      "execution_count": null,
      "outputs": [
        {
          "output_type": "stream",
          "name": "stdout",
          "text": [
            "Bootstrapped DataFrame with Spam labels head:\n",
            "                                 FileName                             Sender  \\\n",
            "0  00432.d0728a14791872b0fdbba5d730bb1426              cr-fixer@caramail.com   \n",
            "1  00331.ccd0a9edb0852f4811a401d533542237         Geege <grlygrl201@aol.com>   \n",
            "2  00163.2ceade6f8b0c1c342f5f95d57ac551f5       <FREE-TV-4-U6754e72@aol.com>   \n",
            "3  01043.0c5ba977fb678deeff6b841772e76c86                spyware@infonet.com   \n",
            "4  00505.d4fa302630b3e58461b644f7b3e11d82  \"Russell\" <jyoung@btamail.net.cn>   \n",
            "\n",
            "                                            Receiver  \\\n",
            "0                             <Imagemac80@jippii.fi>   \n",
            "1                      yyyy@localhost.netnoteinc.com   \n",
            "2                      yyyy@localhost.netnoteinc.com   \n",
            "3                                                      \n",
            "4  <Undisclosed.Recipients@mandark.labs.netnotein...   \n",
            "\n",
            "                                             Subject  \\\n",
            "0                       Super credit repair program.   \n",
            "1                                        Rambus, Man   \n",
            "2  ****Already own a satellite?  Need a programme...   \n",
            "3  Watch your TEENS or the BabySitter....& GET RICH!   \n",
            "4    Your Online Prescription Source               I   \n",
            "\n",
            "                                        Cleaned_Body  \\\n",
            "0  credit mess want perfect credit nice easily ge...   \n",
            "1  message sent http www idg net geege would like...   \n",
            "2  recieve channels satellite system pre programm...   \n",
            "3  look hot want one get rich selling others use ...   \n",
            "4  doctors online viagra viagra available online ...   \n",
            "\n",
            "                                       Combined_Text  Spam  \n",
            "0  cr-fixer@caramail.com Super credit repair prog...     1  \n",
            "1  Geege <grlygrl201@aol.com> Rambus, Man message...     1  \n",
            "2  <FREE-TV-4-U6754e72@aol.com> ****Already own a...     1  \n",
            "3  spyware@infonet.com Watch your TEENS or the Ba...     1  \n",
            "4  \"Russell\" <jyoung@btamail.net.cn> Your Online ...     1  \n",
            "Bootstrapped DataFrame with Spam labels tail:\n",
            "                                     FileName  \\\n",
            "14984  00230.9a0c6d7bc5e78a2b597bc050e491d05e   \n",
            "14985  00867.e614a8905c3462878227048e467cc535   \n",
            "14986  00983.72a910d32dbfe936547f37cdb919c422   \n",
            "14987  02447.5ecaa423bfa4ab050e5b9a0a34f6191f   \n",
            "14988  00584.f206aaba715a53da60ffdb9217b2afb3   \n",
            "\n",
            "                                            Sender  \\\n",
            "14984  \"Martin Adamson\" <martin@srv0.ems.ed.ac.uk>   \n",
            "14985               Karl Anderson <kra@monkey.org>   \n",
            "14986         Elias Sinderson <elias@cse.ucsc.edu>   \n",
            "14987        Loren Coleman <lcolema1@maine.rr.com>   \n",
            "14988          \"Rose, Bobby\" <brose@med.wayne.edu>   \n",
            "\n",
            "                                    Receiver  \\\n",
            "14984          zzzz@localhost.netnoteinc.com   \n",
            "14985          yyyy@localhost.netnoteinc.com   \n",
            "14986          yyyy@localhost.netnoteinc.com   \n",
            "14987  yyyy@localhost.spamassassin.taint.org   \n",
            "14988          yyyy@localhost.netnoteinc.com   \n",
            "\n",
            "                                                 Subject  \\\n",
            "14984            [zzzzteana] 'Lost' penguins found alive   \n",
            "14985  Re: [Baseline] Raising chickens the high-tech way   \n",
            "14986             Re: David Friedman: Mail Me the Money!   \n",
            "14987                [zzzzteana] Ray Wallace (1919-2002)   \n",
            "14988  RE: [Razor-users] What's wrong with the Razor ...   \n",
            "\n",
            "                                            Cleaned_Body  \\\n",
            "14984  evening standard august deft use fortean unit ...   \n",
            "14985  tom writes macrogenetic activites decades deca...   \n",
            "14986  gary lawrence murphy wrote r russell turpin wr...   \n",
            "14987  raymond l wallace bigfoot story teller ray wal...   \n",
            "14988  problem clearly info syncing servers run check...   \n",
            "\n",
            "                                           Combined_Text  Spam  \n",
            "14984  \"Martin Adamson\" <martin@srv0.ems.ed.ac.uk> [z...     1  \n",
            "14985  Karl Anderson <kra@monkey.org> Re: [Baseline] ...     0  \n",
            "14986  Elias Sinderson <elias@cse.ucsc.edu> Re: David...     1  \n",
            "14987  Loren Coleman <lcolema1@maine.rr.com> [zzzztea...     1  \n",
            "14988  \"Rose, Bobby\" <brose@med.wayne.edu> RE: [Razor...     0  \n"
          ]
        }
      ]
    },
    {
      "cell_type": "code",
      "source": [
        "bootstrapped_df.to_csv('/content/Class_label_emails.csv', index=False)\n",
        "print(\"Bootstrapped DataFrame with class labels saved as 'Class_label_emails.csv'\")\n",
        "files.download('/content/Class_label_emails.csv')"
      ],
      "metadata": {
        "colab": {
          "base_uri": "https://localhost:8080/",
          "height": 35
        },
        "id": "JArKSchM4P5D",
        "outputId": "617ec5cd-d2eb-4589-8b5b-f2adab499fe0"
      },
      "execution_count": null,
      "outputs": [
        {
          "output_type": "stream",
          "name": "stdout",
          "text": [
            "Bootstrapped DataFrame with class labels saved as 'Class_label_emails.csv'\n"
          ]
        },
        {
          "output_type": "display_data",
          "data": {
            "text/plain": [
              "<IPython.core.display.Javascript object>"
            ],
            "application/javascript": [
              "\n",
              "    async function download(id, filename, size) {\n",
              "      if (!google.colab.kernel.accessAllowed) {\n",
              "        return;\n",
              "      }\n",
              "      const div = document.createElement('div');\n",
              "      const label = document.createElement('label');\n",
              "      label.textContent = `Downloading \"${filename}\": `;\n",
              "      div.appendChild(label);\n",
              "      const progress = document.createElement('progress');\n",
              "      progress.max = size;\n",
              "      div.appendChild(progress);\n",
              "      document.body.appendChild(div);\n",
              "\n",
              "      const buffers = [];\n",
              "      let downloaded = 0;\n",
              "\n",
              "      const channel = await google.colab.kernel.comms.open(id);\n",
              "      // Send a message to notify the kernel that we're ready.\n",
              "      channel.send({})\n",
              "\n",
              "      for await (const message of channel.messages) {\n",
              "        // Send a message to notify the kernel that we're ready.\n",
              "        channel.send({})\n",
              "        if (message.buffers) {\n",
              "          for (const buffer of message.buffers) {\n",
              "            buffers.push(buffer);\n",
              "            downloaded += buffer.byteLength;\n",
              "            progress.value = downloaded;\n",
              "          }\n",
              "        }\n",
              "      }\n",
              "      const blob = new Blob(buffers, {type: 'application/binary'});\n",
              "      const a = document.createElement('a');\n",
              "      a.href = window.URL.createObjectURL(blob);\n",
              "      a.download = filename;\n",
              "      div.appendChild(a);\n",
              "      a.click();\n",
              "      div.remove();\n",
              "    }\n",
              "  "
            ]
          },
          "metadata": {}
        },
        {
          "output_type": "display_data",
          "data": {
            "text/plain": [
              "<IPython.core.display.Javascript object>"
            ],
            "application/javascript": [
              "download(\"download_a3541309-1d4a-48e3-8bd2-514ce4e10de1\", \"Class_label_emails.csv\", 42933386)"
            ]
          },
          "metadata": {}
        }
      ]
    },
    {
      "cell_type": "code",
      "source": [
        "from gensim.models import Word2Vec\n",
        "from sklearn.model_selection import train_test_split\n",
        "from sklearn.ensemble import RandomForestClassifier\n",
        "from sklearn.naive_bayes import MultinomialNB\n",
        "from sklearn.linear_model import LogisticRegression\n",
        "from sklearn.svm import SVC\n",
        "from sklearn.metrics import accuracy_score, classification_report\n",
        "import pandas as pd\n",
        "import numpy as np\n",
        "import matplotlib.pyplot as plt\n",
        "\n",
        "# Step 6: Prepare Data for Model Training using Word2Vec\n",
        "tokenized_texts = bootstrapped_df['Combined_Text'].apply(lambda x: x.split())\n",
        "\n",
        "# Train a Word2Vec model on the tokenized texts\n",
        "word2vec_model = Word2Vec(sentences=tokenized_texts, vector_size=100, window=5, min_count=1, workers=4)\n",
        "\n",
        "# Function to vectorize text using Word2Vec\n",
        "def vectorize_texts(texts, model):\n",
        "    vectors = []\n",
        "    for text in texts:\n",
        "        tokens = text.split()\n",
        "        token_vectors = [model.wv[word] for word in tokens if word in model.wv]\n",
        "        if token_vectors:\n",
        "            vectors.append(np.mean(token_vectors, axis=0))\n",
        "        else:\n",
        "            vectors.append(np.zeros(model.vector_size))\n",
        "    return np.array(vectors)\n",
        "\n",
        "# Vectorize the data\n",
        "X_bootstrapped = vectorize_texts(bootstrapped_df['Combined_Text'], word2vec_model)\n",
        "y_bootstrapped = bootstrapped_df['Spam']\n"
      ],
      "metadata": {
        "id": "_jXMMMrK4vET"
      },
      "execution_count": null,
      "outputs": []
    },
    {
      "cell_type": "code",
      "source": [
        "# Step 7: Split Data for Training and Testing\n",
        "X_train, X_test, y_train, y_test = train_test_split(\n",
        "    X_bootstrapped, y_bootstrapped, test_size=0.3, random_state=42)"
      ],
      "metadata": {
        "id": "g6_imUSx5r5r"
      },
      "execution_count": null,
      "outputs": []
    },
    {
      "cell_type": "code",
      "source": [
        "# Step 8: Train and Evaluate Multiple Models\n",
        "models = {\n",
        "    \"Random Forest\": RandomForestClassifier(random_state=42, n_estimators=100),\n",
        "    \"Logistic Regression\": LogisticRegression(random_state=42, max_iter=1000),\n",
        "    \"SVM\": SVC(random_state=42)\n",
        "}\n",
        "\n",
        "results = []\n",
        "\n",
        "for model_name, model in models.items():\n",
        "    print(f\"Training {model_name}...\")\n",
        "    model.fit(X_train, y_train)\n",
        "    y_pred = model.predict(X_test)\n",
        "    acc = accuracy_score(y_test, y_pred)\n",
        "    report = classification_report(y_test, y_pred, output_dict=True)\n",
        "    results.append({\n",
        "        'Model': model_name,\n",
        "        'Accuracy': acc,\n",
        "        'Precision': report['weighted avg']['precision'],\n",
        "        'Recall': report['weighted avg']['recall'],\n",
        "        'F1-Score': report['weighted avg']['f1-score']\n",
        "    })\n",
        "\n",
        "# Convert results to DataFrame\n",
        "results_df = pd.DataFrame(results)\n",
        "\n",
        "# Print and visualize the results\n",
        "print(\"Model Performance Comparison:\")\n",
        "print(results_df)\n",
        "\n",
        "plt.figure(figsize=(10, 6))\n",
        "for metric in ['Accuracy', 'Precision', 'Recall', 'F1-Score']:\n",
        "    plt.plot(results_df['Model'], results_df[metric], marker='o', label=metric)\n",
        "plt.title('Model Performance Metrics')\n",
        "plt.xlabel('Model')\n",
        "plt.ylabel('Score')\n",
        "plt.legend()\n",
        "plt.grid()\n",
        "plt.show()"
      ],
      "metadata": {
        "colab": {
          "base_uri": "https://localhost:8080/",
          "height": 703
        },
        "id": "hcCKezAt5_Rg",
        "outputId": "40d5c90f-0aaf-44f0-de1f-09b7bb129cd3"
      },
      "execution_count": null,
      "outputs": [
        {
          "output_type": "stream",
          "name": "stdout",
          "text": [
            "Training Random Forest...\n",
            "Training Logistic Regression...\n",
            "Training SVM...\n",
            "Model Performance Comparison:\n",
            "                 Model  Accuracy  Precision    Recall  F1-Score\n",
            "0        Random Forest  0.969313   0.969119  0.969313  0.969099\n",
            "1  Logistic Regression  0.824327   0.813072  0.824327  0.814280\n",
            "2                  SVM  0.845230   0.837048  0.845230  0.834820\n"
          ]
        },
        {
          "output_type": "display_data",
          "data": {
            "text/plain": [
              "<Figure size 1000x600 with 1 Axes>"
            ],
            "image/png": "[encoded data removed]"
          },
          "metadata": {}
        }
      ]
    },
    {
      "cell_type": "code",
      "source": [
        "# Step 9: Use the Best Model for Future Predictions\n",
        "\n",
        "best_model_name = results_df.sort_values(by='Accuracy', ascending=False).iloc[0]['Model']\n",
        "print(f\"The best performing model is: {best_model_name}\")\n",
        "best_model = models[best_model_name]\n",
        "\n",
        "\n",
        "# Example Prediction\n",
        "#example_email = \"Ok it's Thanksgiving - so you deserve a FEAST today.And like at Thanksgiving dinner, instead of one main course (like our usual weekly essays), today you're getting a full spread:10 quick-hitter ideas that will make your career better for having read them. A mix of unconventional career strategies, job search hacks, and things I wish I knew earlier.I think you'll like the format — and you'll probably save a thing or three that you'll use forever.Before we dig in…I kinda want to start with the dessert first:\"\n",
        "#example_email = \"Some Grading Errors Have Been Found in Short Exam 2. They all have been corrected now. Some of scores of the Short Exam2 have been updated (mostly lowered) now\"\n",
        "#example_vectorized = vectorizer.transform([example_email])\n",
        "#prediction = best_model.predict(example_vectorized)\n",
        "#print(f\"The example email is classified as: {'Ham' if prediction[0] == 1 else 'Spam'}\")"
      ],
      "metadata": {
        "id": "tcy3K0VK7Bd8",
        "colab": {
          "base_uri": "https://localhost:8080/"
        },
        "outputId": "ec35a104-0690-4e02-d118-c6dd0ed36762"
      },
      "execution_count": null,
      "outputs": [
        {
          "output_type": "stream",
          "name": "stdout",
          "text": [
            "The best performing model is: Random Forest\n"
          ]
        }
      ]
    },
    {
      "cell_type": "code",
      "source": [
        "from ipywidgets import Text, Button, Output, VBox\n",
        "from IPython.display import display\n",
        "import numpy as np\n",
        "\n",
        "# Function to vectorize a single input text using Word2Vec\n",
        "def vectorize_single_text(text, model):\n",
        "    tokens = text.split()\n",
        "    token_vectors = [model.wv[word] for word in tokens if word in model.wv]\n",
        "    if token_vectors:\n",
        "        return np.mean(token_vectors, axis=0)\n",
        "    else:\n",
        "        return np.zeros(model.vector_size)\n",
        "\n",
        "# Create widgets for user interaction\n",
        "text_input = Text(description=\"Email:\", placeholder=\"Enter email content here...\")\n",
        "predict_button = Button(description=\"Classify\")\n",
        "output = Output()\n",
        "\n",
        "# Define prediction function\n",
        "def predict_email_type(change):\n",
        "    email_content = text_input.value\n",
        "    if not email_content.strip():\n",
        "        with output:\n",
        "            output.clear_output()\n",
        "            print(\"Please enter a valid email.\")\n",
        "        return\n",
        "\n",
        "    # Vectorize the input email\n",
        "    email_vectorized = vectorize_single_text(email_content, word2vec_model).reshape(1, -1)\n",
        "\n",
        "    # Predict using the trained model\n",
        "    prediction = best_model.predict(email_vectorized)\n",
        "    with output:\n",
        "        output.clear_output()\n",
        "        print(f\"The email is classified as: {'Spam' if prediction[0] == 1 else 'Ham'}\")\n",
        "\n",
        "# Attach the handler to the button\n",
        "predict_button.on_click(predict_email_type)\n",
        "\n",
        "# Display the UI\n",
        "ui = VBox([text_input, predict_button, output])\n",
        "display(ui)\n"
      ],
      "metadata": {
        "colab": {
          "base_uri": "https://localhost:8080/",
          "height": 99,
          "referenced_widgets": [
            "f3bde18f5d994266ae949546448a022b",
            "b222da88ba544dcdbbfe5bf984a33acd",
            "ca479ea3a7dc40e2934099ed183610a0",
            "2a693b6ff6164a5abffaf73d4c9bfb96",
            "bf1e3d4b3c9047c1bd9e60cf0b0dfcbb",
            "16dbc5d7c4cf40768b04dbdfd2aedda7",
            "df7ea831d98e40efaac8510d308e9e9d",
            "e0eb27e48efa4082af7157f93de585c2",
            "c3513843da4b433aa6adac47df5e77db",
            "d224299358fb4cd192a2869b9962efbd"
          ]
        },
        "id": "-LTIL3A6Vgeg",
        "outputId": "266c09fb-8db7-4d19-db3b-98b8d62a1558"
      },
      "execution_count": null,
      "outputs": [
        {
          "output_type": "display_data",
          "data": {
            "text/plain": [
              "VBox(children=(Text(value='', description='Email:', placeholder='Enter email content here...'), Button(descrip…"
            ],
            "application/vnd.jupyter.widget-view+json": {
              "version_major": 2,
              "version_minor": 0,
              "model_id": "f3bde18f5d994266ae949546448a022b"
            }
          },
          "metadata": {}
        }
      ]
    },
    {
      "cell_type": "markdown",
      "source": [],
      "metadata": {
        "id": "lxeYlQkBHfay"
      }
    }
  ]
}